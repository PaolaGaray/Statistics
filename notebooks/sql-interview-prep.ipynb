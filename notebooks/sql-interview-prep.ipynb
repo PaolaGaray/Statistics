{
 "cells": [
  {
   "cell_type": "code",
   "execution_count": 1,
   "id": "4b09d784",
   "metadata": {},
   "outputs": [],
   "source": [
    "import pandas as pd\n",
    "import random"
   ]
  },
  {
   "cell_type": "markdown",
   "id": "11163441",
   "metadata": {},
   "source": [
    "## sintetic data generation: session_data"
   ]
  },
  {
   "cell_type": "code",
   "execution_count": null,
   "id": "73f609b6",
   "metadata": {},
   "outputs": [
    {
     "data": {
      "text/plain": [
       "'C:\\\\Users\\\\Paola\\\\Downloads\\\\simulated_session_data.csv'"
      ]
     },
     "execution_count": 2,
     "metadata": {},
     "output_type": "execute_result"
    }
   ],
   "source": [
    "# Define possible values\n",
    "pages = ['home', 'flights_home', 'results', 'pax', 'payment', 'confirmation']\n",
    "mediums = ['direct', 'metasearch', 'partners', 'SEM']\n",
    "\n",
    "# Generate rows until we have at least 500\n",
    "rows = []\n",
    "session_counter = 100\n",
    "while len(rows) < 500:\n",
    "    session_id = session_counter\n",
    "    medium = random.choice(mediums)\n",
    "    num_hits = random.randint(1, 6)  # number of pageviews per session\n",
    "    for hit in range(1, num_hits + 1):\n",
    "        page = random.choice(pages)\n",
    "        rows.append({\n",
    "            'SESSION_ID': session_id,\n",
    "            'HIT_NUMBER': hit,\n",
    "            'PAGE': page,\n",
    "            'MEDIUM': medium\n",
    "        })\n",
    "    session_counter += 1\n",
    "\n",
    "# Create DataFrame\n",
    "df = pd.DataFrame(rows)\n",
    "\n",
    "# Save to CSV\n",
    "csv_path = r'C:\\Users\\Paola\\Downloads\\simulated_session_data.csv'\n",
    "csv_path"
   ]
  },
  {
   "cell_type": "code",
   "execution_count": 3,
   "id": "b71c2d49",
   "metadata": {},
   "outputs": [],
   "source": [
    "df.to_csv(csv_path, index=False)"
   ]
  },
  {
   "cell_type": "markdown",
   "id": "560e187b",
   "metadata": {},
   "source": [
    "## sintetic data generation: SESSION_WEBSITE:"
   ]
  },
  {
   "cell_type": "code",
   "execution_count": null,
   "id": "121bb41d",
   "metadata": {},
   "outputs": [
    {
     "name": "stdout",
     "output_type": "stream",
     "text": [
      "Generated 149 rows and saved to C:\\Users\\Paola\\Downloads\\simulated_session_website.csv\n"
     ]
    }
   ],
   "source": [
    "# Load existing session_data\n",
    "session_data_path = r'C:\\Users\\Paola\\Downloads\\simulated_session_data.csv'\n",
    "session_df = pd.read_csv(session_data_path)\n",
    "\n",
    "# Extract unique sessions\n",
    "unique_sessions = session_df['SESSION_ID'].unique()\n",
    "\n",
    "# Allowed website codes and their fixed mappings\n",
    "website_mapping = {\n",
    "    'EDDE': {'BRAND': 'EDREAMS', 'COUNTRY': 'GERMANY'},\n",
    "    'EDFR': {'BRAND': 'EDREAMS', 'COUNTRY': 'FRANCE'},\n",
    "    'OPDE': {'BRAND': 'OPODO',    'COUNTRY': 'GERMANY'},\n",
    "    'GOFR': {'BRAND': 'GOVOYAGE', 'COUNTRY': 'FRANCE'},\n",
    "}\n",
    "website_codes = list(website_mapping.keys())\n",
    "\n",
    "# Generate session_website rows\n",
    "website_rows = []\n",
    "for session_id in unique_sessions:\n",
    "    code = random.choice(website_codes)\n",
    "    website_rows.append({\n",
    "        'SESSION_ID': session_id,\n",
    "        'WEBSITE': code,\n",
    "        'BRAND':   website_mapping[code]['BRAND'],\n",
    "        'COUNTRY': website_mapping[code]['COUNTRY']\n",
    "    })\n",
    "\n",
    "# Create DataFrame and save\n",
    "website_df = pd.DataFrame(website_rows).sort_values('SESSION_ID')\n",
    "csv_path = r'C:\\Users\\Paola\\Downloads\\simulated_session_website.csv'\n",
    "website_df.to_csv(csv_path, index=False)\n",
    "\n",
    "print(f\"Generated {len(website_df)} rows and saved to {csv_path}\")\n"
   ]
  },
  {
   "cell_type": "markdown",
   "id": "9784b3c9",
   "metadata": {},
   "source": [
    "## sintetic data generation: SESSION_ABTEST:"
   ]
  },
  {
   "cell_type": "code",
   "execution_count": 8,
   "id": "eb2e5912",
   "metadata": {},
   "outputs": [
    {
     "name": "stdout",
     "output_type": "stream",
     "text": [
      "   SESSION_ID PARTITION\n",
      "0         100         B\n",
      "1         101         A\n",
      "2         102         B\n",
      "3         103         A\n",
      "4         104         A\n"
     ]
    }
   ],
   "source": [
    "# 1) Load your session data\n",
    "session_df = pd.read_csv(r'C:\\Users\\Paola\\Downloads\\simulated_session_data.csv')\n",
    "\n",
    "# 2) Pull out every unique session\n",
    "unique_sessions = session_df['SESSION_ID'].unique()\n",
    "\n",
    "# 3) Build the AB-test table\n",
    "abtest_rows = []\n",
    "for sid in unique_sessions:\n",
    "    abtest_rows.append({\n",
    "        'SESSION_ID': sid,\n",
    "        'PARTITION': random.choice(['A', 'B'])\n",
    "    })\n",
    "\n",
    "abtest_df = pd.DataFrame(abtest_rows).sort_values('SESSION_ID')\n",
    "\n",
    "# 4) Save it\n",
    "abtest_df.to_csv(r'C:\\Users\\Paola\\Downloads\\session_abtest.csv', index=False)\n",
    "\n",
    "# 5) (Optional) peek at the top 5 rows\n",
    "print(abtest_df.head())\n"
   ]
  }
 ],
 "metadata": {
  "kernelspec": {
   "display_name": "Python 3",
   "language": "python",
   "name": "python3"
  },
  "language_info": {
   "codemirror_mode": {
    "name": "ipython",
    "version": 3
   },
   "file_extension": ".py",
   "mimetype": "text/x-python",
   "name": "python",
   "nbconvert_exporter": "python",
   "pygments_lexer": "ipython3",
   "version": "3.13.1"
  }
 },
 "nbformat": 4,
 "nbformat_minor": 5
}
