{
 "cells": [
  {
   "cell_type": "code",
   "execution_count": 1,
   "id": "4b09d784",
   "metadata": {},
   "outputs": [],
   "source": [
    "import pandas as pd\n",
    "import random"
   ]
  },
  {
   "cell_type": "markdown",
   "id": "11163441",
   "metadata": {},
   "source": [
    "## sintetic data generation: session_data"
   ]
  },
  {
   "cell_type": "code",
   "execution_count": null,
   "id": "73f609b6",
   "metadata": {},
   "outputs": [
    {
     "data": {
      "text/plain": [
       "'C:\\\\Users\\\\Paola\\\\Downloads\\\\simulated_session_data.csv'"
      ]
     },
     "execution_count": 2,
     "metadata": {},
     "output_type": "execute_result"
    }
   ],
   "source": [
    "# Define possible values\n",
    "pages = ['home', 'flights_home', 'results', 'pax', 'payment', 'confirmation']\n",
    "mediums = ['direct', 'metasearch', 'partners', 'SEM']\n",
    "\n",
    "# Generate rows until we have at least 500\n",
    "rows = []\n",
    "session_counter = 100\n",
    "while len(rows) < 500:\n",
    "    session_id = session_counter\n",
    "    medium = random.choice(mediums)\n",
    "    num_hits = random.randint(1, 6)  # number of pageviews per session\n",
    "    for hit in range(1, num_hits + 1):\n",
    "        page = random.choice(pages)\n",
    "        rows.append({\n",
    "            'SESSION_ID': session_id,\n",
    "            'HIT_NUMBER': hit,\n",
    "            'PAGE': page,\n",
    "            'MEDIUM': medium\n",
    "        })\n",
    "    session_counter += 1\n",
    "\n",
    "# Create DataFrame\n",
    "df = pd.DataFrame(rows)\n",
    "\n",
    "# Save to CSV\n",
    "csv_path = r'C:\\Users\\Paola\\Downloads\\simulated_session_data.csv'\n",
    "csv_path"
   ]
  },
  {
   "cell_type": "code",
   "execution_count": 3,
   "id": "b71c2d49",
   "metadata": {},
   "outputs": [],
   "source": [
    "df.to_csv(csv_path, index=False)"
   ]
  },
  {
   "cell_type": "markdown",
   "id": "560e187b",
   "metadata": {},
   "source": [
    "## sintetic data generation: SESSION_WEBSITE:"
   ]
  },
  {
   "cell_type": "code",
   "execution_count": 6,
   "id": "121bb41d",
   "metadata": {},
   "outputs": [],
   "source": [
    "# Load existing session_data\n",
    "session_data_path = r'C:\\Users\\Paola\\Downloads\\simulated_session_data.csv'\n",
    "session_df = pd.read_csv(session_data_path)\n",
    "\n",
    "# Extract unique sessions\n",
    "unique_sessions = session_df['SESSION_ID'].unique()\n",
    "\n",
    "# Define brand and country options\n",
    "brands = ['EDREAMS', 'OPODO', 'GOVOYAGE']\n",
    "country_list = ['GERMANY', 'FRANCE', 'SPAIN', 'ITALY', 'UK']\n",
    "\n",
    "# Mapping for codes\n",
    "brand_codes = {'EDREAMS': 'ED', 'OPODO': 'OP', 'GOVOYAGE': 'GO'}\n",
    "country_codes = {'GERMANY': 'DE', 'FRANCE': 'FR', 'SPAIN': 'ES', 'ITALY': 'IT', 'UK': 'UK'}\n",
    "\n",
    "# Generate session_website rows\n",
    "website_rows = []\n",
    "for session_id in unique_sessions:\n",
    "    brand = random.choice(brands)\n",
    "    country = random.choice(country_list)\n",
    "    website = brand_codes[brand] + country_codes[country]\n",
    "    website_rows.append({\n",
    "        'SESSION_ID': session_id,\n",
    "        'WEBSITE': website,\n",
    "        'BRAND': brand,\n",
    "        'COUNTRY': country\n",
    "    })\n",
    "\n",
    "# Create DataFrame and save\n",
    "website_df = pd.DataFrame(website_rows)\n",
    "website_df = website_df.sort_values('SESSION_ID')\n",
    "csv_path = r'C:\\Users\\Paola\\Downloads\\simulated_session_website.csv'\n",
    "website_df.to_csv(csv_path, index=False)\n",
    "\n"
   ]
  }
 ],
 "metadata": {
  "kernelspec": {
   "display_name": "Python 3",
   "language": "python",
   "name": "python3"
  },
  "language_info": {
   "codemirror_mode": {
    "name": "ipython",
    "version": 3
   },
   "file_extension": ".py",
   "mimetype": "text/x-python",
   "name": "python",
   "nbconvert_exporter": "python",
   "pygments_lexer": "ipython3",
   "version": "3.13.1"
  }
 },
 "nbformat": 4,
 "nbformat_minor": 5
}
