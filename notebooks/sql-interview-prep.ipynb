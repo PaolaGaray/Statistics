{
 "cells": [
  {
   "cell_type": "code",
   "execution_count": 1,
   "id": "4b09d784",
   "metadata": {},
   "outputs": [],
   "source": [
    "import pandas as pd\n",
    "import random"
   ]
  },
  {
   "cell_type": "markdown",
   "id": "11163441",
   "metadata": {},
   "source": [
    "## sintetic data generation: session_data"
   ]
  },
  {
   "cell_type": "code",
   "execution_count": 2,
   "id": "73f609b6",
   "metadata": {},
   "outputs": [
    {
     "data": {
      "text/plain": [
       "'C:\\\\Users\\\\Paola\\\\Downloads\\\\simulated_session_data.csv'"
      ]
     },
     "execution_count": 2,
     "metadata": {},
     "output_type": "execute_result"
    }
   ],
   "source": [
    "# Define possible values\n",
    "pages = ['home', 'flights_home', 'results', 'pax', 'payment', 'confirmation']\n",
    "mediums = ['direct', 'metasearch', 'partners', 'SEM']\n",
    "\n",
    "# Generate rows until we have at least 500\n",
    "rows = []\n",
    "session_counter = 100\n",
    "while len(rows) < 500:\n",
    "    session_id = session_counter\n",
    "    medium = random.choice(mediums)\n",
    "    num_hits = random.randint(1, 6)  # number of pageviews per session\n",
    "    for hit in range(1, num_hits + 1):\n",
    "        page = random.choice(pages)\n",
    "        rows.append({\n",
    "            'SESSION_ID': session_id,\n",
    "            'HIT_NUMBER': hit,\n",
    "            'PAGE': page,\n",
    "            'MEDIUM': medium\n",
    "        })\n",
    "    session_counter += 1\n",
    "\n",
    "# Create DataFrame\n",
    "df = pd.DataFrame(rows)\n",
    "\n",
    "# Save to CSV\n",
    "csv_path = r'C:\\Users\\Paola\\Downloads\\simulated_session_data.csv'\n",
    "csv_path"
   ]
  },
  {
   "cell_type": "code",
   "execution_count": 3,
   "id": "b71c2d49",
   "metadata": {},
   "outputs": [],
   "source": [
    "df.to_csv(csv_path, index=False)"
   ]
  },
  {
   "cell_type": "markdown",
   "id": "560e187b",
   "metadata": {},
   "source": [
    "## sintetic data generation: "
   ]
  },
  {
   "cell_type": "code",
   "execution_count": null,
   "id": "121bb41d",
   "metadata": {},
   "outputs": [],
   "source": []
  }
 ],
 "metadata": {
  "kernelspec": {
   "display_name": "Python 3",
   "language": "python",
   "name": "python3"
  },
  "language_info": {
   "codemirror_mode": {
    "name": "ipython",
    "version": 3
   },
   "file_extension": ".py",
   "mimetype": "text/x-python",
   "name": "python",
   "nbconvert_exporter": "python",
   "pygments_lexer": "ipython3",
   "version": "3.13.1"
  }
 },
 "nbformat": 4,
 "nbformat_minor": 5
}
